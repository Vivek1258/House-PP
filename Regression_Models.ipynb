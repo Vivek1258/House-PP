{
  "nbformat": 4,
  "nbformat_minor": 0,
  "metadata": {
    "colab": {
      "name": "Regression Models.ipynb",
      "provenance": []
    },
    "kernelspec": {
      "name": "python3",
      "display_name": "Python 3"
    }
  },
  "cells": [
    {
      "cell_type": "markdown",
      "metadata": {
        "id": "11hjt2rEWo5I"
      },
      "source": [
        "# Regression models \r\n",
        "\r\n",
        "In this notebook we will try to analyze and compare the performence of three regression models.i.e Linear Regression, Ridge Regression, Lasso Regression"
      ]
    },
    {
      "cell_type": "code",
      "metadata": {
        "id": "ExRnWOGsA9pB"
      },
      "source": [
        "# General Imports \r\n",
        "import numpy as np\r\n",
        "import pandas as pd\r\n",
        "import matplotlib.pyplot as plt\r\n",
        "import seaborn as sns\r\n",
        "import sklearn\r\n",
        "\r\n",
        "# metrics\r\n",
        "from sklearn.metrics import mean_squared_error \r\n",
        "\r\n",
        "# models\r\n",
        "\r\n",
        "from sklearn.linear_model import LinearRegression\r\n",
        "from sklearn.linear_model import Ridge\r\n",
        "from sklearn.linear_model import Lasso"
      ],
      "execution_count": 6,
      "outputs": []
    },
    {
      "cell_type": "code",
      "metadata": {
        "id": "bhudAkWdY2_z"
      },
      "source": [
        "train = pd.read_csv(\"/content/train.csv\")\r\n",
        "X_train = train.iloc[:,:-1]\r\n",
        "y_train = train.iloc[:,-1]"
      ],
      "execution_count": 2,
      "outputs": []
    },
    {
      "cell_type": "code",
      "metadata": {
        "id": "m737WtH8ZlDC"
      },
      "source": [
        "test = pd.read_csv(\"/content/test.csv\")\r\n",
        "X_test = test.iloc[:,:-1]\r\n",
        "y_test = test.iloc[:,-1]"
      ],
      "execution_count": 3,
      "outputs": []
    },
    {
      "cell_type": "markdown",
      "metadata": {
        "id": "i08iyTMWaHp3"
      },
      "source": [
        "# 1. Linear Regression"
      ]
    },
    {
      "cell_type": "code",
      "metadata": {
        "id": "h5-XAImuZ_r-"
      },
      "source": [
        "\r\n",
        "# Linear Regression Model \r\n",
        "\r\n",
        "model1_LR = LinearRegression()\r\n",
        "\r\n",
        "\r\n",
        "model1_LR.fit(X_train, y_train)\r\n",
        "\r\n",
        "\r\n",
        "predictions_LR = model1_LR.predict(X_test)\r\n"
      ],
      "execution_count": 23,
      "outputs": []
    },
    {
      "cell_type": "code",
      "metadata": {
        "id": "L7Pbrv5ecsCh"
      },
      "source": [
        "# model performance \r\n",
        "# score and RMSE \r\n",
        "\r\n",
        "score_model1_LR  = model1_LR.score(X_test, y_test)\r\n",
        "\r\n",
        "\r\n",
        "RMSE_model1_LR  = mean_squared_error(y_test, predictions_LR)**(0.5)\r\n"
      ],
      "execution_count": 25,
      "outputs": []
    },
    {
      "cell_type": "code",
      "metadata": {
        "colab": {
          "base_uri": "https://localhost:8080/"
        },
        "id": "cl4HvD3PhY-L",
        "outputId": "109b8963-c907-4006-8520-33025c64f07b"
      },
      "source": [
        "print(score_model1_LR)\r\n",
        "\r\n",
        "print(RMSE_model1_LR)"
      ],
      "execution_count": 26,
      "outputs": [
        {
          "output_type": "stream",
          "text": [
            "-3691678272.9397993\n",
            "21479114943.082462\n"
          ],
          "name": "stdout"
        }
      ]
    },
    {
      "cell_type": "markdown",
      "metadata": {
        "id": "wvhimtRXdJY_"
      },
      "source": [
        "# 2. Ridge Regression"
      ]
    },
    {
      "cell_type": "code",
      "metadata": {
        "colab": {
          "base_uri": "https://localhost:8080/"
        },
        "id": "kZZCSCA-dkX1",
        "outputId": "c0003f3c-667c-4407-f809-c5e7589bc9f1"
      },
      "source": [
        "# Selectig the proper value of alpha \r\n",
        "\r\n",
        "alpha_and_scores = [] # a list of touples (alpha, crossponding score)\r\n",
        "\r\n",
        "range_alpha = np.arange(0.001, 1, 0.01) \r\n",
        "\r\n",
        "\r\n",
        "for i in range_alpha:\r\n",
        "\r\n",
        "    sample_model = Ridge(alpha = i, normalize = True)\r\n",
        "    sample_model.fit(X_train, y_train)\r\n",
        "\r\n",
        "    preds = sample_model.predict(X_test)\r\n",
        "\r\n",
        "    tup = (i , sample_model.score(X_test,y_test)   )\r\n",
        "\r\n",
        "    alpha_and_scores.append(tup)\r\n",
        "\r\n",
        "\r\n",
        "alpha_and_scores.sort(key = lambda x: x[1])\r\n",
        "\r\n",
        "print(alpha_and_scores)\r\n",
        "\r\n",
        "best_alpha = alpha_and_scores[0][0]\r\n",
        "\r\n",
        "best_alpha"
      ],
      "execution_count": 27,
      "outputs": [
        {
          "output_type": "stream",
          "text": [
            "[(0.001, -3684180877.8172264), (0.011, -3610447668.3349385), (0.020999999999999998, -3538907584.0696), (0.030999999999999996, -3469474381.7005854), (0.040999999999999995, -3402066025.935153), (0.05099999999999999, -3336604444.575017), (0.06099999999999999, -3273015300.153924), (0.071, -3211227776.865769), (0.08099999999999999, -3151174381.6143312), (0.09099999999999998, -3092790758.1167135), (0.10099999999999998, -3036015513.0835238), (0.11099999999999999, -2980790053.5813065), (0.12099999999999998, -2927058434.75728), (0.13099999999999998, -2874767217.174101), (0.141, -2823865333.0638485), (0.15099999999999997, -2774303960.866209), (0.16099999999999998, -2726036407.4666777), (0.17099999999999999, -2679017997.596811), (0.18099999999999997, -2633205969.9008884), (0.19099999999999998, -2588559379.2116923), (0.20099999999999996, -2545039004.61345), (0.21099999999999997, -2502607262.9020605), (0.22099999999999997, -2461228127.082255), (0.23099999999999996, -2420867049.5682597), (0.24099999999999996, -2381490889.779328), (0.25099999999999995, -2343067845.844162), (0.26099999999999995, -2305567390.149155), (0.27099999999999996, -2268960208.484467), (0.28099999999999997, -2233218142.5596867), (0.291, -2198314135.6769443), (0.30099999999999993, -2164222181.3643847), (0.31099999999999994, -2130917274.7866538), (0.32099999999999995, -2098375366.7617412), (0.33099999999999996, -2066573320.22534), (0.34099999999999997, -2035488868.994627), (0.3509999999999999, -2005100578.6934927), (0.36099999999999993, -1975387809.710435), (0.37099999999999994, -1946330682.0690055), (0.38099999999999995, -1917910042.098542), (0.39099999999999996, -1890107430.8004067), (0.4009999999999999, -1862905053.811675), (0.4109999999999999, -1836285752.8746407), (0.42099999999999993, -1810232978.726349), (0.43099999999999994, -1784730765.3278356), (0.44099999999999995, -1759763705.3578703), (0.45099999999999996, -1735316926.9006767), (0.4609999999999999, -1711376071.261548), (0.4709999999999999, -1687927271.8483403), (0.4809999999999999, -1664957134.060665), (0.49099999999999994, -1642452716.1321096), (0.5009999999999999, -1620401510.8742304), (0.5109999999999999, -1598791428.2740042), (0.5209999999999999, -1577610778.8994741), (0.5309999999999999, -1556848258.0708895), (0.5409999999999999, -1536492930.7572322), (0.5509999999999999, -1516534217.160357), (0.5609999999999999, -1496961878.9511545), (0.571, -1477766006.1242478), (0.581, -1458937004.4396179), (0.5909999999999999, -1440465583.4213662), (0.6009999999999999, -1422342744.8855689), (0.6109999999999999, -1404559771.9706454), (0.6209999999999999, -1387108218.6452963), (0.6309999999999999, -1369979899.6703312), (0.6409999999999999, -1353166880.9920878), (0.6509999999999999, -1336661470.5463564), (0.6609999999999999, -1320456209.4528677), (0.6709999999999999, -1304543863.5814848), (0.6809999999999999, -1288917415.4722722), (0.691, -1273570056.5925696), (0.7009999999999998, -1258495179.9150765), (0.7109999999999999, -1243686372.8018398), (0.7209999999999999, -1229137410.1797965), (0.7309999999999999, -1214842247.9943013), (0.7409999999999999, -1200795016.9277656), (0.7509999999999999, -1186990016.3712058), (0.7609999999999999, -1173421708.6371117), (0.7709999999999999, -1160084713.4026802), (0.7809999999999999, -1146973802.372953), (0.7909999999999999, -1134083894.1540036), (0.8009999999999998, -1121410049.326739), (0.8109999999999998, -1108947465.7124195), (0.8209999999999998, -1096691473.821393), (0.8309999999999998, -1084637532.4770012), (0.8409999999999999, -1072781224.6069714), (0.8509999999999999, -1061118253.1950233), (0.8609999999999999, -1049644437.3857468), (0.8709999999999999, -1038355708.7361571), (0.8809999999999999, -1027248107.6076359), (0.8909999999999999, -1016317779.6923019), (0.9009999999999999, -1005560972.6680905), (0.9109999999999998, -994974032.977137), (0.9209999999999998, -984553402.7222818), (0.9309999999999998, -974295616.67679), (0.9409999999999998, -964197299.4025683), (0.9509999999999998, -954255162.4724094), (0.9609999999999999, -944466001.7920071), (0.9709999999999999, -934826695.0176458), (0.9809999999999999, -925334199.0656873), (0.9909999999999999, -915985547.710141)]\n"
          ],
          "name": "stdout"
        },
        {
          "output_type": "execute_result",
          "data": {
            "text/plain": [
              "0.001"
            ]
          },
          "metadata": {
            "tags": []
          },
          "execution_count": 27
        }
      ]
    },
    {
      "cell_type": "code",
      "metadata": {
        "id": "Te1QCN_jdE5u"
      },
      "source": [
        "\r\n",
        "# Ridge regression Model \r\n",
        "\r\n",
        "model2_RR = Ridge(alpha = best_alpha , normalize = True)\r\n",
        "\r\n",
        "model2_RR.fit(X_train, y_train)\r\n",
        "\r\n",
        "predictions_RR = model2_RR.predict(X_test)\r\n",
        " \r\n"
      ],
      "execution_count": 30,
      "outputs": []
    },
    {
      "cell_type": "code",
      "metadata": {
        "id": "t4jaOabdh-tl"
      },
      "source": [
        "# model performance \r\n",
        "# score and RMSE \r\n",
        "\r\n",
        "score_model2_RR  = model2_RR.score(X_test, y_test)\r\n",
        "\r\n",
        "\r\n",
        "RMSE_model2_RR  = mean_squared_error(y_test, predictions_RR)**(0.5)"
      ],
      "execution_count": 31,
      "outputs": []
    },
    {
      "cell_type": "code",
      "metadata": {
        "colab": {
          "base_uri": "https://localhost:8080/"
        },
        "id": "KgH0c2WXiHxC",
        "outputId": "22d167e3-1803-42a6-e865-1c5bad27b55d"
      },
      "source": [
        "print(score_model2_RR)\r\n",
        "\r\n",
        "print(RMSE_model2_RR)"
      ],
      "execution_count": 33,
      "outputs": [
        {
          "output_type": "stream",
          "text": [
            "-3684180877.8172264\n",
            "21457292990.418617\n"
          ],
          "name": "stdout"
        }
      ]
    },
    {
      "cell_type": "markdown",
      "metadata": {
        "id": "DtUW8Ec6iXzy"
      },
      "source": [
        "# 3. Lasso Regression"
      ]
    },
    {
      "cell_type": "code",
      "metadata": {
        "id": "DlodevwwiNVo"
      },
      "source": [
        "\r\n",
        "# Lasso Regression Model\r\n",
        "\r\n",
        "model3_LaR = Lasso(alpha = 14)\r\n",
        "\r\n",
        "\r\n",
        "model3_LaR.fit(X_train, y_train)\r\n",
        "\r\n",
        "\r\n",
        "predictions_LaR = model3_LaR.predict(X_test)\r\n"
      ],
      "execution_count": 36,
      "outputs": []
    },
    {
      "cell_type": "code",
      "metadata": {
        "id": "STBqFH3QjXXF"
      },
      "source": [
        "# model performance \r\n",
        "# score and RMSE \r\n",
        "\r\n",
        "score_model3_LaR  = model3_LaR.score(X_test, y_test)\r\n",
        "\r\n",
        "RMSE_model3_LaR  = mean_squared_error(y_test, predictions_LaR)**(0.5)"
      ],
      "execution_count": 37,
      "outputs": []
    },
    {
      "cell_type": "code",
      "metadata": {
        "colab": {
          "base_uri": "https://localhost:8080/"
        },
        "id": "W9osQn8Xjn1R",
        "outputId": "a5c33a50-a160-4ef6-98bb-2a92df9bcc23"
      },
      "source": [
        "print(score_model3_LaR)\r\n",
        "\r\n",
        "print(RMSE_model3_LaR)"
      ],
      "execution_count": 38,
      "outputs": [
        {
          "output_type": "stream",
          "text": [
            "-3691157664.6362185\n",
            "21477600374.500706\n"
          ],
          "name": "stdout"
        }
      ]
    },
    {
      "cell_type": "code",
      "metadata": {
        "id": "9shjccaqmzxu"
      },
      "source": [
        ""
      ],
      "execution_count": null,
      "outputs": []
    }
  ]
}