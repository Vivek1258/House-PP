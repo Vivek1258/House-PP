{
  "nbformat": 4,
  "nbformat_minor": 0,
  "metadata": {
    "colab": {
      "name": "Data Preprocessing.ipynb",
      "provenance": [],
      "collapsed_sections": []
    },
    "kernelspec": {
      "name": "python3",
      "display_name": "Python 3"
    }
  },
  "cells": [
    {
      "cell_type": "markdown",
      "metadata": {
        "id": "WMrt2hxq5p8U"
      },
      "source": [
        "# Data Preprocessing \r\n",
        "\r\n",
        "# 1. Splitting the data into training and testing stets \r\n",
        "\r\n"
      ]
    },
    {
      "cell_type": "code",
      "metadata": {
        "id": "gBgy9Wz44z-6"
      },
      "source": [
        "import numpy as np\r\n",
        "import pandas as pd\r\n",
        "import matplotlib.pyplot as plt\r\n",
        "import seaborn as sns\r\n",
        "import sklearn\r\n",
        "\r\n",
        "from sklearn.model_selection import train_test_split\r\n",
        "from sklearn.preprocessing import StandardScaler"
      ],
      "execution_count": 12,
      "outputs": []
    },
    {
      "cell_type": "code",
      "metadata": {
        "id": "eqokDWyy8Vh6"
      },
      "source": [
        "df = pd.read_csv(\"/content/USA_Housing.csv\")"
      ],
      "execution_count": 2,
      "outputs": []
    },
    {
      "cell_type": "code",
      "metadata": {
        "colab": {
          "base_uri": "https://localhost:8080/"
        },
        "id": "t2nf8KjF8lSU",
        "outputId": "eaff6800-f5b8-4f80-adfb-76c99d76db2f"
      },
      "source": [
        "df.shape"
      ],
      "execution_count": 5,
      "outputs": [
        {
          "output_type": "execute_result",
          "data": {
            "text/plain": [
              "(5000, 7)"
            ]
          },
          "metadata": {
            "tags": []
          },
          "execution_count": 5
        }
      ]
    },
    {
      "cell_type": "code",
      "metadata": {
        "colab": {
          "base_uri": "https://localhost:8080/"
        },
        "id": "PNhLNMSr8saa",
        "outputId": "d7d5b03d-40be-4501-9329-d27c32300680"
      },
      "source": [
        "df.columns"
      ],
      "execution_count": 6,
      "outputs": [
        {
          "output_type": "execute_result",
          "data": {
            "text/plain": [
              "Index(['Avg. Area Income', 'Avg. Area House Age', 'Avg. Area Number of Rooms',\n",
              "       'Avg. Area Number of Bedrooms', 'Area Population', 'Price', 'Address'],\n",
              "      dtype='object')"
            ]
          },
          "metadata": {
            "tags": []
          },
          "execution_count": 6
        }
      ]
    },
    {
      "cell_type": "markdown",
      "metadata": {
        "id": "Xg18VK9Z9GJT"
      },
      "source": [
        "Dependent Variable = 'Price'\r\n",
        "\r\n",
        "Independent Variables = 'Avg. Area Income', 'Avg. Area House Age', 'Avg. Area Number of Rooms', 'Avg. Area Number of Bedrooms', 'Area Population'\r\n",
        "\r\n",
        "Variable not in use = 'Address'\r\n"
      ]
    },
    {
      "cell_type": "code",
      "metadata": {
        "id": "ciHJ2piH82hJ"
      },
      "source": [
        "X = df.iloc[:,:5]\r\n",
        "y = df.iloc[:,5]"
      ],
      "execution_count": 7,
      "outputs": []
    },
    {
      "cell_type": "code",
      "metadata": {
        "colab": {
          "base_uri": "https://localhost:8080/",
          "height": 404
        },
        "id": "noWcyJ-y96Ws",
        "outputId": "596943fa-7dc7-4e96-da84-842477391f28"
      },
      "source": [
        "X"
      ],
      "execution_count": 8,
      "outputs": [
        {
          "output_type": "execute_result",
          "data": {
            "text/html": [
              "<div>\n",
              "<style scoped>\n",
              "    .dataframe tbody tr th:only-of-type {\n",
              "        vertical-align: middle;\n",
              "    }\n",
              "\n",
              "    .dataframe tbody tr th {\n",
              "        vertical-align: top;\n",
              "    }\n",
              "\n",
              "    .dataframe thead th {\n",
              "        text-align: right;\n",
              "    }\n",
              "</style>\n",
              "<table border=\"1\" class=\"dataframe\">\n",
              "  <thead>\n",
              "    <tr style=\"text-align: right;\">\n",
              "      <th></th>\n",
              "      <th>Avg. Area Income</th>\n",
              "      <th>Avg. Area House Age</th>\n",
              "      <th>Avg. Area Number of Rooms</th>\n",
              "      <th>Avg. Area Number of Bedrooms</th>\n",
              "      <th>Area Population</th>\n",
              "    </tr>\n",
              "  </thead>\n",
              "  <tbody>\n",
              "    <tr>\n",
              "      <th>0</th>\n",
              "      <td>79545.458574</td>\n",
              "      <td>5.682861</td>\n",
              "      <td>7.009188</td>\n",
              "      <td>4.09</td>\n",
              "      <td>23086.800503</td>\n",
              "    </tr>\n",
              "    <tr>\n",
              "      <th>1</th>\n",
              "      <td>79248.642455</td>\n",
              "      <td>6.002900</td>\n",
              "      <td>6.730821</td>\n",
              "      <td>3.09</td>\n",
              "      <td>40173.072174</td>\n",
              "    </tr>\n",
              "    <tr>\n",
              "      <th>2</th>\n",
              "      <td>61287.067179</td>\n",
              "      <td>5.865890</td>\n",
              "      <td>8.512727</td>\n",
              "      <td>5.13</td>\n",
              "      <td>36882.159400</td>\n",
              "    </tr>\n",
              "    <tr>\n",
              "      <th>3</th>\n",
              "      <td>63345.240046</td>\n",
              "      <td>7.188236</td>\n",
              "      <td>5.586729</td>\n",
              "      <td>3.26</td>\n",
              "      <td>34310.242831</td>\n",
              "    </tr>\n",
              "    <tr>\n",
              "      <th>4</th>\n",
              "      <td>59982.197226</td>\n",
              "      <td>5.040555</td>\n",
              "      <td>7.839388</td>\n",
              "      <td>4.23</td>\n",
              "      <td>26354.109472</td>\n",
              "    </tr>\n",
              "    <tr>\n",
              "      <th>...</th>\n",
              "      <td>...</td>\n",
              "      <td>...</td>\n",
              "      <td>...</td>\n",
              "      <td>...</td>\n",
              "      <td>...</td>\n",
              "    </tr>\n",
              "    <tr>\n",
              "      <th>4995</th>\n",
              "      <td>60567.944140</td>\n",
              "      <td>7.830362</td>\n",
              "      <td>6.137356</td>\n",
              "      <td>3.46</td>\n",
              "      <td>22837.361035</td>\n",
              "    </tr>\n",
              "    <tr>\n",
              "      <th>4996</th>\n",
              "      <td>78491.275435</td>\n",
              "      <td>6.999135</td>\n",
              "      <td>6.576763</td>\n",
              "      <td>4.02</td>\n",
              "      <td>25616.115489</td>\n",
              "    </tr>\n",
              "    <tr>\n",
              "      <th>4997</th>\n",
              "      <td>63390.686886</td>\n",
              "      <td>7.250591</td>\n",
              "      <td>4.805081</td>\n",
              "      <td>2.13</td>\n",
              "      <td>33266.145490</td>\n",
              "    </tr>\n",
              "    <tr>\n",
              "      <th>4998</th>\n",
              "      <td>68001.331235</td>\n",
              "      <td>5.534388</td>\n",
              "      <td>7.130144</td>\n",
              "      <td>5.44</td>\n",
              "      <td>42625.620156</td>\n",
              "    </tr>\n",
              "    <tr>\n",
              "      <th>4999</th>\n",
              "      <td>65510.581804</td>\n",
              "      <td>5.992305</td>\n",
              "      <td>6.792336</td>\n",
              "      <td>4.07</td>\n",
              "      <td>46501.283803</td>\n",
              "    </tr>\n",
              "  </tbody>\n",
              "</table>\n",
              "<p>5000 rows × 5 columns</p>\n",
              "</div>"
            ],
            "text/plain": [
              "      Avg. Area Income  ...  Area Population\n",
              "0         79545.458574  ...     23086.800503\n",
              "1         79248.642455  ...     40173.072174\n",
              "2         61287.067179  ...     36882.159400\n",
              "3         63345.240046  ...     34310.242831\n",
              "4         59982.197226  ...     26354.109472\n",
              "...                ...  ...              ...\n",
              "4995      60567.944140  ...     22837.361035\n",
              "4996      78491.275435  ...     25616.115489\n",
              "4997      63390.686886  ...     33266.145490\n",
              "4998      68001.331235  ...     42625.620156\n",
              "4999      65510.581804  ...     46501.283803\n",
              "\n",
              "[5000 rows x 5 columns]"
            ]
          },
          "metadata": {
            "tags": []
          },
          "execution_count": 8
        }
      ]
    },
    {
      "cell_type": "code",
      "metadata": {
        "colab": {
          "base_uri": "https://localhost:8080/"
        },
        "id": "eSC_NiCy97li",
        "outputId": "20c33efc-8702-4c99-f6d5-2da3ebbb03d8"
      },
      "source": [
        "y"
      ],
      "execution_count": 9,
      "outputs": [
        {
          "output_type": "execute_result",
          "data": {
            "text/plain": [
              "0       1.059034e+06\n",
              "1       1.505891e+06\n",
              "2       1.058988e+06\n",
              "3       1.260617e+06\n",
              "4       6.309435e+05\n",
              "            ...     \n",
              "4995    1.060194e+06\n",
              "4996    1.482618e+06\n",
              "4997    1.030730e+06\n",
              "4998    1.198657e+06\n",
              "4999    1.298950e+06\n",
              "Name: Price, Length: 5000, dtype: float64"
            ]
          },
          "metadata": {
            "tags": []
          },
          "execution_count": 9
        }
      ]
    },
    {
      "cell_type": "code",
      "metadata": {
        "id": "mGJlsCTz9-hS"
      },
      "source": [
        "X_train, X_test, y_train, y_test = train_test_split(X, y, test_size = 0.25, random_state = 101)"
      ],
      "execution_count": 10,
      "outputs": []
    },
    {
      "cell_type": "markdown",
      "metadata": {
        "id": "o8O-IV6M-S37"
      },
      "source": [
        "# 2. Standerdaztion \r\n",
        "\r\n",
        "Standardization is the process of putting different variables on the same scale. In regression analysis, you need to standardize the independent variables when your model contains polynomial terms to model curvature or interaction terms. These terms provide crucial information about the relationships between the independent variables and the dependent variable, but they also generate high amounts of multicollinearity.\r\n",
        "\r\n",
        "Multicollinearity refers to independent variables that are correlated. This problem can obscure the statistical significance of model terms, produce imprecise coefficients, and make it more difficult to choose the correct model.\r\n",
        "\r\n",
        "ref : https://statisticsbyjim.com/regression/standardize-variables-regression/"
      ]
    },
    {
      "cell_type": "code",
      "metadata": {
        "id": "UE6W7o1Q-Jy6"
      },
      "source": [
        "SC = StandardScaler()\r\n",
        "\r\n",
        "X_train = SC.fit_transform(X_train)\r\n",
        "\r\n",
        "X_test = SC.transform(X_test)\r\n"
      ],
      "execution_count": 15,
      "outputs": []
    },
    {
      "cell_type": "code",
      "metadata": {
        "colab": {
          "base_uri": "https://localhost:8080/"
        },
        "id": "kHB30vRn_dmr",
        "outputId": "6ff5e045-b341-40d6-ce6f-4e25ac02433c"
      },
      "source": [
        "X_train"
      ],
      "execution_count": 16,
      "outputs": [
        {
          "output_type": "execute_result",
          "data": {
            "text/plain": [
              "array([[ 0.34529318, -0.84306952,  0.57820121, -0.37429069, -1.75053875],\n",
              "       [-0.18466794, -0.276508  , -0.07456069, -0.45561391, -0.82511745],\n",
              "       [ 0.92874457, -1.77295774,  0.48319053,  1.08139504,  0.62832369],\n",
              "       ...,\n",
              "       [-1.20951742, -2.28499865, -0.11524894, -1.35016939,  2.72022392],\n",
              "       [-0.50924621, -0.03693705, -1.07263584,  0.11364866, -0.34921044],\n",
              "       [ 0.62611608,  1.710467  ,  1.46138542,  0.30069208,  2.01117877]])"
            ]
          },
          "metadata": {
            "tags": []
          },
          "execution_count": 16
        }
      ]
    },
    {
      "cell_type": "markdown",
      "metadata": {
        "id": "xhz5KYf8_FWA"
      },
      "source": [
        "# Save the dataframe"
      ]
    },
    {
      "cell_type": "code",
      "metadata": {
        "colab": {
          "base_uri": "https://localhost:8080/",
          "height": 404
        },
        "id": "9ZoQRx4F-zsl",
        "outputId": "a00cd886-e055-47da-c8d1-2c933dff8a88"
      },
      "source": [
        "train = pd.DataFrame(X_train)\r\n",
        "\r\n",
        "train[\"output\"] = list(y_train )\r\n",
        "\r\n",
        "train"
      ],
      "execution_count": 21,
      "outputs": [
        {
          "output_type": "execute_result",
          "data": {
            "text/html": [
              "<div>\n",
              "<style scoped>\n",
              "    .dataframe tbody tr th:only-of-type {\n",
              "        vertical-align: middle;\n",
              "    }\n",
              "\n",
              "    .dataframe tbody tr th {\n",
              "        vertical-align: top;\n",
              "    }\n",
              "\n",
              "    .dataframe thead th {\n",
              "        text-align: right;\n",
              "    }\n",
              "</style>\n",
              "<table border=\"1\" class=\"dataframe\">\n",
              "  <thead>\n",
              "    <tr style=\"text-align: right;\">\n",
              "      <th></th>\n",
              "      <th>0</th>\n",
              "      <th>1</th>\n",
              "      <th>2</th>\n",
              "      <th>3</th>\n",
              "      <th>4</th>\n",
              "      <th>output</th>\n",
              "    </tr>\n",
              "  </thead>\n",
              "  <tbody>\n",
              "    <tr>\n",
              "      <th>0</th>\n",
              "      <td>0.345293</td>\n",
              "      <td>-0.843070</td>\n",
              "      <td>0.578201</td>\n",
              "      <td>-0.374291</td>\n",
              "      <td>-1.750539</td>\n",
              "      <td>9.958132e+05</td>\n",
              "    </tr>\n",
              "    <tr>\n",
              "      <th>1</th>\n",
              "      <td>-0.184668</td>\n",
              "      <td>-0.276508</td>\n",
              "      <td>-0.074561</td>\n",
              "      <td>-0.455614</td>\n",
              "      <td>-0.825117</td>\n",
              "      <td>8.735092e+05</td>\n",
              "    </tr>\n",
              "    <tr>\n",
              "      <th>2</th>\n",
              "      <td>0.928745</td>\n",
              "      <td>-1.772958</td>\n",
              "      <td>0.483191</td>\n",
              "      <td>1.081395</td>\n",
              "      <td>0.628324</td>\n",
              "      <td>1.360502e+06</td>\n",
              "    </tr>\n",
              "    <tr>\n",
              "      <th>3</th>\n",
              "      <td>2.004353</td>\n",
              "      <td>-0.151710</td>\n",
              "      <td>0.493976</td>\n",
              "      <td>-0.423085</td>\n",
              "      <td>-0.244201</td>\n",
              "      <td>1.742351e+06</td>\n",
              "    </tr>\n",
              "    <tr>\n",
              "      <th>4</th>\n",
              "      <td>0.964726</td>\n",
              "      <td>-0.511843</td>\n",
              "      <td>0.799734</td>\n",
              "      <td>0.113649</td>\n",
              "      <td>-0.861898</td>\n",
              "      <td>1.233220e+06</td>\n",
              "    </tr>\n",
              "    <tr>\n",
              "      <th>...</th>\n",
              "      <td>...</td>\n",
              "      <td>...</td>\n",
              "      <td>...</td>\n",
              "      <td>...</td>\n",
              "      <td>...</td>\n",
              "      <td>...</td>\n",
              "    </tr>\n",
              "    <tr>\n",
              "      <th>3745</th>\n",
              "      <td>-1.116236</td>\n",
              "      <td>-1.149488</td>\n",
              "      <td>0.576440</td>\n",
              "      <td>-0.545069</td>\n",
              "      <td>-1.077843</td>\n",
              "      <td>7.296417e+05</td>\n",
              "    </tr>\n",
              "    <tr>\n",
              "      <th>3746</th>\n",
              "      <td>0.203274</td>\n",
              "      <td>0.589662</td>\n",
              "      <td>-0.444430</td>\n",
              "      <td>-0.699584</td>\n",
              "      <td>1.554319</td>\n",
              "      <td>1.599479e+06</td>\n",
              "    </tr>\n",
              "    <tr>\n",
              "      <th>3747</th>\n",
              "      <td>-1.209517</td>\n",
              "      <td>-2.284999</td>\n",
              "      <td>-0.115249</td>\n",
              "      <td>-1.350169</td>\n",
              "      <td>2.720224</td>\n",
              "      <td>1.102641e+06</td>\n",
              "    </tr>\n",
              "    <tr>\n",
              "      <th>3748</th>\n",
              "      <td>-0.509246</td>\n",
              "      <td>-0.036937</td>\n",
              "      <td>-1.072636</td>\n",
              "      <td>0.113649</td>\n",
              "      <td>-0.349210</td>\n",
              "      <td>8.650995e+05</td>\n",
              "    </tr>\n",
              "    <tr>\n",
              "      <th>3749</th>\n",
              "      <td>0.626116</td>\n",
              "      <td>1.710467</td>\n",
              "      <td>1.461385</td>\n",
              "      <td>0.300692</td>\n",
              "      <td>2.011179</td>\n",
              "      <td>2.108376e+06</td>\n",
              "    </tr>\n",
              "  </tbody>\n",
              "</table>\n",
              "<p>3750 rows × 6 columns</p>\n",
              "</div>"
            ],
            "text/plain": [
              "             0         1         2         3         4        output\n",
              "0     0.345293 -0.843070  0.578201 -0.374291 -1.750539  9.958132e+05\n",
              "1    -0.184668 -0.276508 -0.074561 -0.455614 -0.825117  8.735092e+05\n",
              "2     0.928745 -1.772958  0.483191  1.081395  0.628324  1.360502e+06\n",
              "3     2.004353 -0.151710  0.493976 -0.423085 -0.244201  1.742351e+06\n",
              "4     0.964726 -0.511843  0.799734  0.113649 -0.861898  1.233220e+06\n",
              "...        ...       ...       ...       ...       ...           ...\n",
              "3745 -1.116236 -1.149488  0.576440 -0.545069 -1.077843  7.296417e+05\n",
              "3746  0.203274  0.589662 -0.444430 -0.699584  1.554319  1.599479e+06\n",
              "3747 -1.209517 -2.284999 -0.115249 -1.350169  2.720224  1.102641e+06\n",
              "3748 -0.509246 -0.036937 -1.072636  0.113649 -0.349210  8.650995e+05\n",
              "3749  0.626116  1.710467  1.461385  0.300692  2.011179  2.108376e+06\n",
              "\n",
              "[3750 rows x 6 columns]"
            ]
          },
          "metadata": {
            "tags": []
          },
          "execution_count": 21
        }
      ]
    },
    {
      "cell_type": "code",
      "metadata": {
        "colab": {
          "base_uri": "https://localhost:8080/",
          "height": 404
        },
        "id": "DDvvFBV0_sSf",
        "outputId": "9726cebf-4c92-4461-f162-685a5d57fac1"
      },
      "source": [
        "test = pd.DataFrame(X_test)\r\n",
        "\r\n",
        "test[\"output\"] = list(y_test )\r\n",
        "\r\n",
        "test"
      ],
      "execution_count": 22,
      "outputs": [
        {
          "output_type": "execute_result",
          "data": {
            "text/html": [
              "<div>\n",
              "<style scoped>\n",
              "    .dataframe tbody tr th:only-of-type {\n",
              "        vertical-align: middle;\n",
              "    }\n",
              "\n",
              "    .dataframe tbody tr th {\n",
              "        vertical-align: top;\n",
              "    }\n",
              "\n",
              "    .dataframe thead th {\n",
              "        text-align: right;\n",
              "    }\n",
              "</style>\n",
              "<table border=\"1\" class=\"dataframe\">\n",
              "  <thead>\n",
              "    <tr style=\"text-align: right;\">\n",
              "      <th></th>\n",
              "      <th>0</th>\n",
              "      <th>1</th>\n",
              "      <th>2</th>\n",
              "      <th>3</th>\n",
              "      <th>4</th>\n",
              "      <th>output</th>\n",
              "    </tr>\n",
              "  </thead>\n",
              "  <tbody>\n",
              "    <tr>\n",
              "      <th>0</th>\n",
              "      <td>66774.995817</td>\n",
              "      <td>5.717143</td>\n",
              "      <td>7.795215</td>\n",
              "      <td>4.32</td>\n",
              "      <td>36788.980327</td>\n",
              "      <td>1.251689e+06</td>\n",
              "    </tr>\n",
              "    <tr>\n",
              "      <th>1</th>\n",
              "      <td>62184.539375</td>\n",
              "      <td>4.925758</td>\n",
              "      <td>7.427689</td>\n",
              "      <td>6.22</td>\n",
              "      <td>26008.309124</td>\n",
              "      <td>8.730483e+05</td>\n",
              "    </tr>\n",
              "    <tr>\n",
              "      <th>2</th>\n",
              "      <td>73643.057298</td>\n",
              "      <td>6.766853</td>\n",
              "      <td>8.337085</td>\n",
              "      <td>3.34</td>\n",
              "      <td>43152.139577</td>\n",
              "      <td>1.696978e+06</td>\n",
              "    </tr>\n",
              "    <tr>\n",
              "      <th>3</th>\n",
              "      <td>61909.041438</td>\n",
              "      <td>6.228343</td>\n",
              "      <td>6.593138</td>\n",
              "      <td>4.29</td>\n",
              "      <td>28953.925377</td>\n",
              "      <td>1.063964e+06</td>\n",
              "    </tr>\n",
              "    <tr>\n",
              "      <th>4</th>\n",
              "      <td>72942.705059</td>\n",
              "      <td>4.786222</td>\n",
              "      <td>7.319886</td>\n",
              "      <td>6.41</td>\n",
              "      <td>24377.909049</td>\n",
              "      <td>9.487883e+05</td>\n",
              "    </tr>\n",
              "    <tr>\n",
              "      <th>...</th>\n",
              "      <td>...</td>\n",
              "      <td>...</td>\n",
              "      <td>...</td>\n",
              "      <td>...</td>\n",
              "      <td>...</td>\n",
              "      <td>...</td>\n",
              "    </tr>\n",
              "    <tr>\n",
              "      <th>1245</th>\n",
              "      <td>83443.263898</td>\n",
              "      <td>5.446504</td>\n",
              "      <td>8.360907</td>\n",
              "      <td>5.06</td>\n",
              "      <td>44900.793097</td>\n",
              "      <td>1.727211e+06</td>\n",
              "    </tr>\n",
              "    <tr>\n",
              "      <th>1246</th>\n",
              "      <td>89475.559699</td>\n",
              "      <td>6.888439</td>\n",
              "      <td>5.233514</td>\n",
              "      <td>2.40</td>\n",
              "      <td>31070.431830</td>\n",
              "      <td>1.707270e+06</td>\n",
              "    </tr>\n",
              "    <tr>\n",
              "      <th>1247</th>\n",
              "      <td>56265.974309</td>\n",
              "      <td>5.838423</td>\n",
              "      <td>7.894150</td>\n",
              "      <td>3.20</td>\n",
              "      <td>40493.063981</td>\n",
              "      <td>1.167450e+06</td>\n",
              "    </tr>\n",
              "    <tr>\n",
              "      <th>1248</th>\n",
              "      <td>64044.189620</td>\n",
              "      <td>4.581614</td>\n",
              "      <td>5.875689</td>\n",
              "      <td>4.10</td>\n",
              "      <td>32940.794782</td>\n",
              "      <td>7.241217e+05</td>\n",
              "    </tr>\n",
              "    <tr>\n",
              "      <th>1249</th>\n",
              "      <td>70520.272783</td>\n",
              "      <td>6.628298</td>\n",
              "      <td>6.146798</td>\n",
              "      <td>4.48</td>\n",
              "      <td>51639.306972</td>\n",
              "      <td>1.561234e+06</td>\n",
              "    </tr>\n",
              "  </tbody>\n",
              "</table>\n",
              "<p>1250 rows × 6 columns</p>\n",
              "</div>"
            ],
            "text/plain": [
              "                 0         1         2     3             4        output\n",
              "0     66774.995817  5.717143  7.795215  4.32  36788.980327  1.251689e+06\n",
              "1     62184.539375  4.925758  7.427689  6.22  26008.309124  8.730483e+05\n",
              "2     73643.057298  6.766853  8.337085  3.34  43152.139577  1.696978e+06\n",
              "3     61909.041438  6.228343  6.593138  4.29  28953.925377  1.063964e+06\n",
              "4     72942.705059  4.786222  7.319886  6.41  24377.909049  9.487883e+05\n",
              "...            ...       ...       ...   ...           ...           ...\n",
              "1245  83443.263898  5.446504  8.360907  5.06  44900.793097  1.727211e+06\n",
              "1246  89475.559699  6.888439  5.233514  2.40  31070.431830  1.707270e+06\n",
              "1247  56265.974309  5.838423  7.894150  3.20  40493.063981  1.167450e+06\n",
              "1248  64044.189620  4.581614  5.875689  4.10  32940.794782  7.241217e+05\n",
              "1249  70520.272783  6.628298  6.146798  4.48  51639.306972  1.561234e+06\n",
              "\n",
              "[1250 rows x 6 columns]"
            ]
          },
          "metadata": {
            "tags": []
          },
          "execution_count": 22
        }
      ]
    },
    {
      "cell_type": "code",
      "metadata": {
        "id": "2vqu9CvAAEIv"
      },
      "source": [
        "train.to_csv(\"/content/train.csv\")"
      ],
      "execution_count": 23,
      "outputs": []
    },
    {
      "cell_type": "code",
      "metadata": {
        "id": "ILZI9ZbPAmAP"
      },
      "source": [
        "test.to_csv(\"/content/test.csv\")"
      ],
      "execution_count": 24,
      "outputs": []
    }
  ]
}